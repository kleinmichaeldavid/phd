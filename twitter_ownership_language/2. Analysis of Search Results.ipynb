{
 "cells": [
  {
   "cell_type": "markdown",
   "metadata": {},
   "source": [
    "## Read and analyze the collected data"
   ]
  },
  {
   "cell_type": "code",
   "execution_count": 230,
   "metadata": {},
   "outputs": [],
   "source": [
    "import sqlite3\n",
    "import re\n",
    "\n",
    "import pandas as pd\n",
    "import numpy as np\n",
    "\n",
    "from collections import Counter\n",
    "\n",
    "import matplotlib.pyplot as plt\n",
    "%matplotlib inline"
   ]
  },
  {
   "cell_type": "code",
   "execution_count": 231,
   "metadata": {},
   "outputs": [],
   "source": [
    "def query_table(c,query):\n",
    "    c.execute('SELECT * FROM {tn} WHERE {cn}=\"no\"'.\\\n",
    "        format(coi='id', tn=query, cn='is_retweet'))\n",
    "\n",
    "    check = c.fetchall()\n",
    "    df = pd.DataFrame(check)\n",
    "    df.columns = ['tweet_id', 'datetime', 'source', 'user_id',\n",
    "                  'user_name','user_location',\n",
    "                  'user_description','user_followers',\n",
    "                  'user_friends','user_acc_age',\n",
    "                  'user_verified','user_statuses','user_offset',\n",
    "                  'user_lang','is_quote_status','favorited',\n",
    "                  'retweeted','language','is_retweet',\n",
    "                  'mentions','reply_to','retweet_text',\n",
    "                  'retweet_user','text']\n",
    "\n",
    "    return(df)\n",
    "\n",
    "def trim_data(df,items):\n",
    "    df = df[df['language'] == 'en']\n",
    "    df = df.filter(items=items)\n",
    "    return(df)\n",
    "\n",
    "def clean_text(text):\n",
    "    clean_tweets = []\n",
    "    for tweet in text:\n",
    "        clean = tweet.lower() # set to lowercase\n",
    "        clean = re.sub('\\n',' ',clean) # change newline to space\n",
    "        clean = re.sub('&amp','&',clean) # fix ampersands\n",
    "        clean = re.sub('#[^ ]*','',clean) # remove hashtags\n",
    "        clean = re.sub('@[^ ]*','',clean) # remove mentions\n",
    "        clean = re.sub('http[^ ]*','',clean) # remove links\n",
    "        clean = re.sub('[^a-z0-9 ]','',clean) # remove non-alphanumerics\n",
    "        clean = re.sub(' + ',' ',clean) # multi-spaces down to single spaces\n",
    "        clean = clean.strip()\n",
    "        clean_tweets.append(clean)\n",
    "    return(clean_tweets)\n",
    "\n",
    "def find_duplicates(text):\n",
    "    cnt = Counter()\n",
    "    duplicates = [False] * df.shape[0]\n",
    "    for i,tweet in enumerate(text):\n",
    "        cnt[tweet] += 1\n",
    "        if cnt[tweet] > 1:\n",
    "            duplicates[i] = True\n",
    "    return(duplicates)\n",
    "\n",
    "def find_short(text, min_len):\n",
    "    length = [len(tweet.split(' ')) for tweet in text]\n",
    "    too_short = [ln < min_len for ln in length]\n",
    "    return(too_short)\n",
    "\n",
    "def word_counter(df, text_col, terms):\n",
    "    df['length'] = [len(tweet.split(' ')) for tweet in df[text_col]]\n",
    "    for term in terms:\n",
    "        df[term] = [len(re.findall('\\\\b'+term+'\\\\b', tweet)) for tweet in df[text_col]]\n",
    "    return(df)"
   ]
  },
  {
   "cell_type": "code",
   "execution_count": 251,
   "metadata": {},
   "outputs": [],
   "source": [
    "# connect to the database\n",
    "sqlite_file = '20180402_hashtags_sample100000.sqlite'\n",
    "conn = sqlite3.connect(sqlite_file)\n",
    "c = conn.cursor()\n",
    "\n",
    "# get list of hashtags\n",
    "queries = []\n",
    "res = conn.execute(\"SELECT name FROM sqlite_master WHERE type='table';\")\n",
    "for name in res:\n",
    "    queries.append(name[0])\n",
    "\n",
    "all_counts = []\n",
    "for query in queries:\n",
    "    # query data\n",
    "    df = query_table(c,query)\n",
    "\n",
    "    # add cleaner columns\n",
    "    df = trim_data(df,['tweet_id', 'user_id','user_followers','text'])\n",
    "    df['clean_text'] = clean_text(df['text'])\n",
    "    df['duplicate'] = find_duplicates(df['clean_text'])\n",
    "    df['short'] = find_short(df['clean_text'], 5)\n",
    "\n",
    "    # trim data\n",
    "    clean_df = df[~df['duplicate'] & ~df['short']].drop(['duplicate','short','text'], axis = 1)\n",
    "\n",
    "    # count words\n",
    "    #ey_words = ['i','you','we','mine','yours','ours','my','your','our']\n",
    "    ownership_dictionary = ['mine','my','your','yours','our','ours']\n",
    "    \n",
    "    word_counts = word_counter(clean_df, 'clean_text', ownership_dictionary)\n",
    "    possessives = [0] * word_counts.shape[0]\n",
    "    for term in ownership_dictionary:\n",
    "        possessives += word_counts[term]\n",
    "    word_counts['possessive_count'] = possessives\n",
    "    word_counts['contains_poss'] = possessives > 0\n",
    "    word_counts['poss_per_word'] = possessives / word_counts['length']\n",
    "    \n",
    "    all_counts.append(word_counts)"
   ]
  },
  {
   "cell_type": "code",
   "execution_count": 252,
   "metadata": {},
   "outputs": [
    {
     "data": {
      "text/html": [
       "<div>\n",
       "<style scoped>\n",
       "    .dataframe tbody tr th:only-of-type {\n",
       "        vertical-align: middle;\n",
       "    }\n",
       "\n",
       "    .dataframe tbody tr th {\n",
       "        vertical-align: top;\n",
       "    }\n",
       "\n",
       "    .dataframe thead th {\n",
       "        text-align: right;\n",
       "    }\n",
       "</style>\n",
       "<table border=\"1\" class=\"dataframe\">\n",
       "  <thead>\n",
       "    <tr style=\"text-align: right;\">\n",
       "      <th></th>\n",
       "      <th>hashtag</th>\n",
       "      <th>avg_len</th>\n",
       "      <th>poss_per_tweet</th>\n",
       "      <th>per_tweet_se</th>\n",
       "      <th>poss_per_word</th>\n",
       "      <th>per_word_se</th>\n",
       "      <th>count</th>\n",
       "    </tr>\n",
       "  </thead>\n",
       "  <tbody>\n",
       "    <tr>\n",
       "      <th>0</th>\n",
       "      <td>mondaymotivation</td>\n",
       "      <td>17.077549</td>\n",
       "      <td>0.336764</td>\n",
       "      <td>0.003270</td>\n",
       "      <td>0.026301</td>\n",
       "      <td>0.000315</td>\n",
       "      <td>20890</td>\n",
       "    </tr>\n",
       "    <tr>\n",
       "      <th>1</th>\n",
       "      <td>worldautismawarenessday</td>\n",
       "      <td>18.723558</td>\n",
       "      <td>0.300481</td>\n",
       "      <td>0.010053</td>\n",
       "      <td>0.019597</td>\n",
       "      <td>0.000852</td>\n",
       "      <td>2080</td>\n",
       "    </tr>\n",
       "  </tbody>\n",
       "</table>\n",
       "</div>"
      ],
      "text/plain": [
       "                   hashtag    avg_len  poss_per_tweet  per_tweet_se  \\\n",
       "0         mondaymotivation  17.077549        0.336764      0.003270   \n",
       "1  worldautismawarenessday  18.723558        0.300481      0.010053   \n",
       "\n",
       "   poss_per_word  per_word_se  count  \n",
       "0       0.026301     0.000315  20890  \n",
       "1       0.019597     0.000852   2080  "
      ]
     },
     "execution_count": 252,
     "metadata": {},
     "output_type": "execute_result"
    }
   ],
   "source": [
    "info = [] ### plot poss_per_word over time to see when/if it stabilizes\n",
    "for i,counts in enumerate(all_counts):\n",
    "    qnum = count_df#qnum = count_df[count_df[q]]\n",
    "    avg_len = np.mean(counts['length'])\n",
    "    poss_per_tweet = np.mean(counts['contains_poss'])# * 100\n",
    "    per_tweet_se = np.std(counts['contains_poss']) / np.sqrt(counts.shape[0])# * 100\n",
    "    poss_per_word = np.mean(counts['poss_per_word'])# * 100\n",
    "    per_word_se = np.std(counts['poss_per_word']) / np.sqrt(counts.shape[0])# * 100\n",
    "    #log_poss_per_word = np.mean([np.log(tweet * 100) if tweet > 0 else 0 for tweet in counts['poss_per_word']])\n",
    "    #log_per_word_se = np.std([np.log(tweet * 100) if tweet > 0 else 0 for tweet in counts['poss_per_word']])\n",
    "    count = counts.shape[0]\n",
    "    info.append([queries[i], avg_len,poss_per_tweet,per_tweet_se,\n",
    "                 poss_per_word,per_word_se,count])\n",
    "    \n",
    "results = pd.DataFrame(info)\n",
    "results.columns = ['hashtag','avg_len','poss_per_tweet','per_tweet_se',\n",
    "                   'poss_per_word','per_word_se','count']\n",
    "results = results.sort_values(by = 'count', ascending = False).reset_index(drop = True)\n",
    "results"
   ]
  },
  {
   "cell_type": "code",
   "execution_count": 253,
   "metadata": {},
   "outputs": [
    {
     "data": {
      "image/png": "[encoded data removed]",
      "text/plain": [
       "<Figure size 432x288 with 1 Axes>"
      ]
     },
     "metadata": {},
     "output_type": "display_data"
    },
    {
     "data": {
      "image/png": "[encoded data removed]",
      "text/plain": [
       "<Figure size 432x288 with 1 Axes>"
      ]
     },
     "metadata": {},
     "output_type": "display_data"
    }
   ],
   "source": [
    "for i in range(len(all_counts)):\n",
    "    posses = all_counts[i]['poss_per_word'][all_counts[i]['poss_per_word'] > 0]# * 100\n",
    "    #posses = np.log(posses)\n",
    "\n",
    "    plt.hist(posses, bins='auto')  # arguments are passed to np.histogram\n",
    "    plt.title(\"Possessives per Word for \" + queries[i])\n",
    "    plt.show()"
   ]
  },
  {
   "cell_type": "code",
   "execution_count": 254,
   "metadata": {},
   "outputs": [
    {
     "data": {
      "image/png": "[encoded data removed]",
      "text/plain": [
       "<Figure size 432x288 with 1 Axes>"
      ]
     },
     "metadata": {},
     "output_type": "display_data"
    },
    {
     "data": {
      "image/png": "[encoded data removed]",
      "text/plain": [
       "<Figure size 432x288 with 1 Axes>"
      ]
     },
     "metadata": {},
     "output_type": "display_data"
    }
   ],
   "source": [
    "for i in range(len(all_counts)):\n",
    "    #for j in range(10):\n",
    "    #    shuffled = all_counts[i].sample(frac = 1).reset_index(drop = True)\n",
    "    #    rate_cumsum = np.cumsum(shuffled.poss_per_word) / (shuffled.index+1)\n",
    "    #    plt.plot(shuffled.index, rate_cumsum, 'r')\n",
    "\n",
    "    shuffled = all_counts[i].sample(frac = 1).reset_index(drop = True)\n",
    "    rate_cumsum = np.cumsum(shuffled.poss_per_word) / (shuffled.index+1)\n",
    "    rate_cumstd = shuffled['poss_per_word'].expanding(min_periods=1).std()\n",
    "    rate_cumse = rate_cumstd / np.sqrt(shuffled.index+1)\n",
    "    plus_ci = rate_cumsum + 1.96 * rate_cumse\n",
    "    minus_ci = rate_cumsum - 1.96 * rate_cumse\n",
    "   \n",
    "    plt.plot(shuffled.index, rate_cumsum, 'r')\n",
    "    plt.plot(shuffled.index, plus_ci, 'g')\n",
    "    plt.plot(shuffled.index, minus_ci, 'g')\n",
    "\n",
    "    plt.xlim(0,20000)\n",
    "    plt.ylim(0,0.03)\n",
    "    plt.title(\"Cumulative Avg Poss/Word for \" + queries[i])\n",
    "    plt.show()"
   ]
  },
  {
   "cell_type": "code",
   "execution_count": 191,
   "metadata": {},
   "outputs": [],
   "source": []
  },
  {
   "cell_type": "code",
   "execution_count": null,
   "metadata": {},
   "outputs": [],
   "source": []
  },
  {
   "cell_type": "code",
   "execution_count": null,
   "metadata": {},
   "outputs": [],
   "source": []
  },
  {
   "cell_type": "code",
   "execution_count": null,
   "metadata": {},
   "outputs": [],
   "source": []
  },
  {
   "cell_type": "code",
   "execution_count": null,
   "metadata": {},
   "outputs": [],
   "source": []
  },
  {
   "cell_type": "code",
   "execution_count": null,
   "metadata": {},
   "outputs": [],
   "source": []
  },
  {
   "cell_type": "code",
   "execution_count": null,
   "metadata": {},
   "outputs": [],
   "source": []
  },
  {
   "cell_type": "code",
   "execution_count": null,
   "metadata": {},
   "outputs": [],
   "source": []
  },
  {
   "cell_type": "code",
   "execution_count": null,
   "metadata": {},
   "outputs": [],
   "source": []
  },
  {
   "cell_type": "code",
   "execution_count": null,
   "metadata": {},
   "outputs": [],
   "source": []
  },
  {
   "cell_type": "code",
   "execution_count": null,
   "metadata": {},
   "outputs": [],
   "source": []
  },
  {
   "cell_type": "code",
   "execution_count": null,
   "metadata": {},
   "outputs": [],
   "source": []
  },
  {
   "cell_type": "code",
   "execution_count": null,
   "metadata": {},
   "outputs": [],
   "source": []
  },
  {
   "cell_type": "code",
   "execution_count": null,
   "metadata": {},
   "outputs": [],
   "source": []
  },
  {
   "cell_type": "code",
   "execution_count": null,
   "metadata": {},
   "outputs": [],
   "source": []
  },
  {
   "cell_type": "code",
   "execution_count": 187,
   "metadata": {},
   "outputs": [],
   "source": []
  },
  {
   "cell_type": "code",
   "execution_count": 558,
   "metadata": {},
   "outputs": [
    {
     "data": {
      "text/html": [
       "<div>\n",
       "<style scoped>\n",
       "    .dataframe tbody tr th:only-of-type {\n",
       "        vertical-align: middle;\n",
       "    }\n",
       "\n",
       "    .dataframe tbody tr th {\n",
       "        vertical-align: top;\n",
       "    }\n",
       "\n",
       "    .dataframe thead th {\n",
       "        text-align: right;\n",
       "    }\n",
       "</style>\n",
       "<table border=\"1\" class=\"dataframe\">\n",
       "  <thead>\n",
       "    <tr style=\"text-align: right;\">\n",
       "      <th></th>\n",
       "      <th>count</th>\n",
       "      <th>user</th>\n",
       "    </tr>\n",
       "  </thead>\n",
       "  <tbody>\n",
       "    <tr>\n",
       "      <th>0</th>\n",
       "      <td>174</td>\n",
       "      <td>1606528160</td>\n",
       "    </tr>\n",
       "    <tr>\n",
       "      <th>1</th>\n",
       "      <td>49</td>\n",
       "      <td>707576396298649600</td>\n",
       "    </tr>\n",
       "    <tr>\n",
       "      <th>2</th>\n",
       "      <td>44</td>\n",
       "      <td>2269619268</td>\n",
       "    </tr>\n",
       "    <tr>\n",
       "      <th>3</th>\n",
       "      <td>32</td>\n",
       "      <td>877252532510142468</td>\n",
       "    </tr>\n",
       "    <tr>\n",
       "      <th>4</th>\n",
       "      <td>28</td>\n",
       "      <td>561614650</td>\n",
       "    </tr>\n",
       "  </tbody>\n",
       "</table>\n",
       "</div>"
      ],
      "text/plain": [
       "   count                user\n",
       "0    174          1606528160\n",
       "1     49  707576396298649600\n",
       "2     44          2269619268\n",
       "3     32  877252532510142468\n",
       "4     28           561614650"
      ]
     },
     "execution_count": 558,
     "metadata": {},
     "output_type": "execute_result"
    }
   ],
   "source": [
    "## count number of tweets by each user\n",
    "\n",
    "cnt = Counter()\n",
    "for tweet in df_1['user']: ## change df_1 to count_df\n",
    "    cnt[tweet] += 1\n",
    "\n",
    "keys = []\n",
    "values = []\n",
    "for key,value in cnt.items():\n",
    "    keys.append(key)\n",
    "    values.append(value)\n",
    "    \n",
    "user_df = pd.DataFrame({'user':keys,'count':values})\n",
    "user_df.sort_values(by = 'count', ascending = False).reset_index(drop = True)[:5]"
   ]
  },
  {
   "cell_type": "code",
   "execution_count": 222,
   "metadata": {},
   "outputs": [],
   "source": [
    "# determine average lev distance between tweets by a given user\n",
    "\n",
    "def levenshtein(seq1, seq2):\n",
    "    # from: http://stackabuse.com/levenshtein-distance-and-text-similarity-in-python/\n",
    "    size_x = len(seq1) + 1\n",
    "    size_y = len(seq2) + 1\n",
    "    matrix = np.zeros ((size_x, size_y))\n",
    "    for x in range(size_x):\n",
    "        matrix [x, 0] = x\n",
    "    for y in range(size_y):\n",
    "        matrix [0, y] = y\n",
    "\n",
    "    for x in range(1, size_x):\n",
    "        for y in range(1, size_y):\n",
    "            if seq1[x-1] == seq2[y-1]:\n",
    "                matrix [x,y] = min(\n",
    "                    matrix[x-1, y] + 1,\n",
    "                    matrix[x-1, y-1],\n",
    "                    matrix[x, y-1] + 1\n",
    "                )\n",
    "            else:\n",
    "                matrix [x,y] = min(\n",
    "                    matrix[x-1,y] + 1,\n",
    "                    matrix[x-1,y-1] + 1,\n",
    "                    matrix[x,y-1] + 1\n",
    "                )\n",
    "    #print (matrix)\n",
    "    return (matrix[size_x - 1, size_y - 1])\n",
    "\n",
    "def avg_levens(tweets): ### this will be too slow!!! better to just take a bunch of random pairs?\n",
    "    levens = []\n",
    "    for item1 in tweets:\n",
    "        for item2 in tweets[tweets != item1]:\n",
    "            levens.append(levenshtein(item1,item2) / np.mean([len(item1),len(item2)]))\n",
    "    return(np.mean(levens))\n",
    "\n",
    "avg_levens(count_df[count_df['user'] == '1600214708']['clean_text']) ## and person must be above some cut-off to be included"
   ]
  },
  {
   "cell_type": "code",
   "execution_count": 240,
   "metadata": {},
   "outputs": [],
   "source": []
  },
  {
   "cell_type": "code",
   "execution_count": null,
   "metadata": {},
   "outputs": [],
   "source": []
  },
  {
   "cell_type": "code",
   "execution_count": null,
   "metadata": {},
   "outputs": [],
   "source": []
  },
  {
   "cell_type": "code",
   "execution_count": null,
   "metadata": {},
   "outputs": [],
   "source": []
  },
  {
   "cell_type": "code",
   "execution_count": null,
   "metadata": {},
   "outputs": [],
   "source": []
  }
 ],
 "metadata": {
  "kernelspec": {
   "display_name": "Python 3",
   "language": "python",
   "name": "python3"
  },
  "language_info": {
   "codemirror_mode": {
    "name": "ipython",
    "version": 3
   },
   "file_extension": ".py",
   "mimetype": "text/x-python",
   "name": "python",
   "nbconvert_exporter": "python",
   "pygments_lexer": "ipython3",
   "version": "3.6.4"
  }
 },
 "nbformat": 4,
 "nbformat_minor": 2
}
